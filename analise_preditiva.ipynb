{
 "cells": [
  {
   "cell_type": "code",
   "execution_count": 12,
   "id": "ef506a8d",
   "metadata": {},
   "outputs": [],
   "source": [
    "from utils.db import load_all_rows_from_mongo\n",
    "from utils.functions import processar_indicadores_financeiros, prophet_ar2_forecast, forecast_future_periods\n",
    "import pandas as pd\n",
    "import numpy as np\n",
    "import matplotlib.pyplot as plt\n",
    "from statsmodels.graphics.tsaplots import plot_acf, plot_pacf\n",
    "from prophet import Prophet\n",
    "from statsmodels.tsa.stattools import adfuller\n",
    "from statsmodels.stats.diagnostic import acorr_ljungbox\n",
    "from statsmodels.tsa.holtwinters import SimpleExpSmoothing, ExponentialSmoothing\n",
    "#from sklearn.metrics import mean_absolute_error, mean_squared_error"
   ]
  },
  {
   "cell_type": "code",
   "execution_count": 17,
   "id": "8a7015fd",
   "metadata": {},
   "outputs": [],
   "source": [
    "all_rows = load_all_rows_from_mongo(coll_name=\"industrial_nordeste\")\n",
    "\n",
    "df_hist = pd.DataFrame(all_rows)\n",
    "indicadores_historicos = processar_indicadores_financeiros(df_hist)"
   ]
  },
  {
   "cell_type": "code",
   "execution_count": 13,
   "id": "e30914bd",
   "metadata": {},
   "outputs": [],
   "source": [
    "indicadores_historicos['Margem_de_Lucro'] = np.log1p(\n",
    "    indicadores_historicos['Margem_de_Lucro'])"
   ]
  },
  {
   "cell_type": "code",
   "execution_count": 6,
   "id": "cf81717a",
   "metadata": {},
   "outputs": [
    {
     "name": "stdout",
     "output_type": "stream",
     "text": [
      "p-valor: 0.0000\n",
      "✅ A série é estacionária (rejeita H₀).\n"
     ]
    }
   ],
   "source": [
    "resultado = adfuller(indicadores_historicos['Margem_de_Lucro'])\n",
    "p_valor = resultado[1]\n",
    "\n",
    "print(f\"p-valor: {p_valor:.4f}\")\n",
    "\n",
    "if p_valor < 0.05:\n",
    "    print(\"✅ A série é estacionária (rejeita H₀).\")\n",
    "else:\n",
    "    print(\"⚠️ A série NÃO é estacionária (não rejeita H₀). O Prophet consegue lidar com isso.\")"
   ]
  },
  {
   "cell_type": "code",
   "execution_count": 18,
   "id": "757cb1f8",
   "metadata": {},
   "outputs": [
    {
     "name": "stdout",
     "output_type": "stream",
     "text": [
      "    lb_stat  lb_pvalue\n",
      "3  8.550349   0.035907\n",
      "\n",
      "P-valor (lag 12): 0.0359\n",
      "✅ A série apresenta autocorrelação significativa (rejeita H₀).\n"
     ]
    }
   ],
   "source": [
    "lb = acorr_ljungbox(indicadores_historicos['Margem_de_Lucro'], lags=[\n",
    "                    3], return_df=True)\n",
    "p_valor = lb['lb_pvalue'].iloc[-1]  # pega o p-valor do último lag\n",
    "\n",
    "print(lb)\n",
    "print(f\"\\nP-valor (lag 12): {p_valor:.4f}\")\n",
    "\n",
    "if p_valor < 0.05:\n",
    "    print(\"✅ A série apresenta autocorrelação significativa (rejeita H₀).\")\n",
    "else:\n",
    "    print(\"⚠️ A série NÃO apresenta autocorrelação significativa (não rejeita H₀).\")"
   ]
  },
  {
   "cell_type": "code",
   "execution_count": null,
   "id": "41c834aa",
   "metadata": {},
   "outputs": [],
   "source": [
    "indicadores_historicos.index = pd.to_datetime(\n",
    "    indicadores_historicos.index, format=\"%Y-%m\")"
   ]
  },
  {
   "cell_type": "code",
   "execution_count": 27,
   "id": "840bd4dc",
   "metadata": {},
   "outputs": [
    {
     "name": "stderr",
     "output_type": "stream",
     "text": [
      "21:59:15 - cmdstanpy - INFO - Chain [1] start processing\n",
      "21:59:15 - cmdstanpy - INFO - Chain [1] done processing\n"
     ]
    },
    {
     "name": "stdout",
     "output_type": "stream",
     "text": [
      "📈 AR(2) via Prophet - coluna: Liquidez_Imediata\n",
      "MAE :  0.2152\n",
      "RMSE:  0.2674\n",
      "MAPE:  27.58%\n",
      "0.21520516945348997 0.2673515575588584 27.576444976808528\n",
      "          ds    y_true    y_pred\n",
      "0 2024-07-01  0.727312  0.758690\n",
      "1 2024-08-01  0.791949  0.783192\n",
      "2 2024-09-01  0.619650  0.827316\n",
      "3 2024-10-01  0.657870  0.941435\n",
      "4 2024-11-01  0.824217  0.356057\n",
      "5 2024-12-01  1.095764  1.387470\n"
     ]
    }
   ],
   "source": [
    "\n",
    "resultado = prophet_ar2_forecast(\n",
    "    indicadores_historicos, target_col='Liquidez_Imediata', horizon=6)\n",
    "\n",
    "# acessar métricas\n",
    "print(resultado['MAE'], resultado['RMSE'], resultado['MAPE'])\n",
    "\n",
    "# visualizar previsões\n",
    "print(resultado['forecast_df'])"
   ]
  },
  {
   "cell_type": "code",
   "execution_count": 25,
   "id": "07641e6a",
   "metadata": {},
   "outputs": [
    {
     "name": "stdout",
     "output_type": "stream",
     "text": [
      "<class 'pandas.core.frame.DataFrame'>\n",
      "DatetimeIndex: 36 entries, 2022-01-01 to 2024-12-01\n",
      "Data columns (total 22 columns):\n",
      " #   Column                            Non-Null Count  Dtype  \n",
      "---  ------                            --------------  -----  \n",
      " 0   Ativo_Circulante                  36 non-null     float64\n",
      " 1   Ativo_Nao_Circulante              36 non-null     float64\n",
      " 2   Passivo_Circulante                36 non-null     float64\n",
      " 3   Passivo_Nao_Circulante            36 non-null     float64\n",
      " 4   Patrimonio_Liquido                36 non-null     float64\n",
      " 5   Receita_Bruta                     36 non-null     float64\n",
      " 6   Impostos_Receita                  36 non-null     float64\n",
      " 7   Custo_Total                       36 non-null     float64\n",
      " 8   Disponibilidade_Caixa             36 non-null     float64\n",
      " 9   Receita_Líquida                   36 non-null     float64\n",
      " 10  Lucro_Bruto                       36 non-null     float64\n",
      " 11  Lucro_Líquido                     36 non-null     float64\n",
      " 12  Ativo_Total                       36 non-null     float64\n",
      " 13  Passivo_Total                     36 non-null     float64\n",
      " 14  Liquidez_Corrente                 36 non-null     float64\n",
      " 15  Liquidez_Imediata                 36 non-null     float64\n",
      " 16  Liquidez_Geral                    36 non-null     float64\n",
      " 17  Solvencia_Geral                   36 non-null     float64\n",
      " 18  Endividamento                     36 non-null     float64\n",
      " 19  Endividamento_Geral               36 non-null     float64\n",
      " 20  Margem_de_Lucro                   36 non-null     float64\n",
      " 21  Retorno_Sobre_Patrimonio_Liquido  36 non-null     float64\n",
      "dtypes: float64(22)\n",
      "memory usage: 6.5 KB\n"
     ]
    }
   ],
   "source": [
    "indicadores_historicos.info()\n"
   ]
  },
  {
   "cell_type": "code",
   "execution_count": 29,
   "id": "a7734309",
   "metadata": {},
   "outputs": [
    {
     "name": "stderr",
     "output_type": "stream",
     "text": [
      "21:59:46 - cmdstanpy - INFO - Chain [1] start processing\n",
      "21:59:46 - cmdstanpy - INFO - Chain [1] done processing\n"
     ]
    },
    {
     "name": "stdout",
     "output_type": "stream",
     "text": [
      "✅ Previsão futura concluída com sucesso!\n"
     ]
    },
    {
     "data": {
      "text/html": [
       "<div>\n",
       "<style scoped>\n",
       "    .dataframe tbody tr th:only-of-type {\n",
       "        vertical-align: middle;\n",
       "    }\n",
       "\n",
       "    .dataframe tbody tr th {\n",
       "        vertical-align: top;\n",
       "    }\n",
       "\n",
       "    .dataframe thead th {\n",
       "        text-align: right;\n",
       "    }\n",
       "</style>\n",
       "<table border=\"1\" class=\"dataframe\">\n",
       "  <thead>\n",
       "    <tr style=\"text-align: right;\">\n",
       "      <th></th>\n",
       "      <th>ds</th>\n",
       "      <th>forecast</th>\n",
       "    </tr>\n",
       "  </thead>\n",
       "  <tbody>\n",
       "    <tr>\n",
       "      <th>0</th>\n",
       "      <td>2025-01-01</td>\n",
       "      <td>0.420741</td>\n",
       "    </tr>\n",
       "    <tr>\n",
       "      <th>1</th>\n",
       "      <td>2025-02-01</td>\n",
       "      <td>0.625147</td>\n",
       "    </tr>\n",
       "    <tr>\n",
       "      <th>2</th>\n",
       "      <td>2025-03-01</td>\n",
       "      <td>0.820994</td>\n",
       "    </tr>\n",
       "    <tr>\n",
       "      <th>3</th>\n",
       "      <td>2025-04-01</td>\n",
       "      <td>0.932121</td>\n",
       "    </tr>\n",
       "    <tr>\n",
       "      <th>4</th>\n",
       "      <td>2025-05-01</td>\n",
       "      <td>0.850834</td>\n",
       "    </tr>\n",
       "    <tr>\n",
       "      <th>5</th>\n",
       "      <td>2025-06-01</td>\n",
       "      <td>0.705411</td>\n",
       "    </tr>\n",
       "  </tbody>\n",
       "</table>\n",
       "</div>"
      ],
      "text/plain": [
       "          ds  forecast\n",
       "0 2025-01-01  0.420741\n",
       "1 2025-02-01  0.625147\n",
       "2 2025-03-01  0.820994\n",
       "3 2025-04-01  0.932121\n",
       "4 2025-05-01  0.850834\n",
       "5 2025-06-01  0.705411"
      ]
     },
     "execution_count": 29,
     "metadata": {},
     "output_type": "execute_result"
    }
   ],
   "source": [
    "previsao_futura = forecast_future_periods(\n",
    "    indicadores_historicos, target_col='Liquidez_Imediata', horizon=6)\n",
    "\n",
    "previsao_futura"
   ]
  },
  {
   "cell_type": "code",
   "execution_count": 30,
   "id": "84efa497",
   "metadata": {},
   "outputs": [
    {
     "data": {
      "image/png": "[encoded data removed]",
      "text/plain": [
       "<Figure size 1000x400 with 1 Axes>"
      ]
     },
     "metadata": {},
     "output_type": "display_data"
    }
   ],
   "source": [
    "import matplotlib.pyplot as plt\n",
    "\n",
    "res = resultado['forecast_df']\n",
    "plt.figure(figsize=(10, 4))\n",
    "plt.plot(res['ds'], res['y_true'], label='Real')\n",
    "plt.plot(res['ds'], res['y_pred'], label='Previsto', linestyle='--')\n",
    "plt.legend()\n",
    "plt.title('Prophet AR(2) - Comparativo Real vs Previsto')\n",
    "plt.grid(True)\n",
    "plt.show()"
   ]
  },
  {
   "cell_type": "code",
   "execution_count": null,
   "id": "ddc51e4d",
   "metadata": {},
   "outputs": [
    {
     "ename": "TypeError",
     "evalue": "__init__() got an unexpected keyword argument 'monthly_seasonality'",
     "output_type": "error",
     "traceback": [
      "\u001b[1;31m---------------------------------------------------------------------------\u001b[0m",
      "\u001b[1;31mTypeError\u001b[0m                                 Traceback (most recent call last)",
      "Cell \u001b[1;32mIn[14], line 1\u001b[0m\n\u001b[1;32m----> 1\u001b[0m m \u001b[38;5;241m=\u001b[39m \u001b[43mProphet\u001b[49m\u001b[43m(\u001b[49m\u001b[43myearly_seasonality\u001b[49m\u001b[38;5;241;43m=\u001b[39;49m\u001b[38;5;28;43;01mTrue\u001b[39;49;00m\u001b[43m,\u001b[49m\n\u001b[0;32m      2\u001b[0m \u001b[43m            \u001b[49m\u001b[43mmonthly_seasonality\u001b[49m\u001b[38;5;241;43m=\u001b[39;49m\u001b[38;5;28;43;01mFalse\u001b[39;49;00m\u001b[43m,\u001b[49m\u001b[43m \u001b[49m\u001b[43mdaily_seasonality\u001b[49m\u001b[38;5;241;43m=\u001b[39;49m\u001b[38;5;28;43;01mFalse\u001b[39;49;00m\u001b[43m)\u001b[49m\n\u001b[0;32m      3\u001b[0m m\u001b[38;5;241m.\u001b[39mfit(indicadores_historicos[\u001b[38;5;124m\"\u001b[39m\u001b[38;5;124mLucro_Líquido\u001b[39m\u001b[38;5;124m\"\u001b[39m])\n\u001b[0;32m      5\u001b[0m \u001b[38;5;66;03m# Gerar previsões para 12 meses à frente\u001b[39;00m\n",
      "\u001b[1;31mTypeError\u001b[0m: __init__() got an unexpected keyword argument 'monthly_seasonality'"
     ]
    }
   ],
   "source": [
    "m = Prophet(yearly_seasonality=True,\n",
    "            monthly_seasonality=False, daily_seasonality=False)\n",
    "m.fit(indicadores_historicos[\"Lucro_Líquido\"])\n",
    "\n",
    "# Gerar previsões para 12 meses à frente\n",
    "future = m.make_future_dataframe(periods=12, freq='M')\n",
    "forecast = m.predict(future)\n",
    "\n",
    "# Visualizar\n",
    "m.plot(forecast)\n",
    "m.plot_components(forecast)"
   ]
  }
 ],
 "metadata": {
  "kernelspec": {
   "display_name": "Python 3",
   "language": "python",
   "name": "python3"
  },
  "language_info": {
   "codemirror_mode": {
    "name": "ipython",
    "version": 3
   },
   "file_extension": ".py",
   "mimetype": "text/x-python",
   "name": "python",
   "nbconvert_exporter": "python",
   "pygments_lexer": "ipython3",
   "version": "3.9.13"
  }
 },
 "nbformat": 4,
 "nbformat_minor": 5
}
