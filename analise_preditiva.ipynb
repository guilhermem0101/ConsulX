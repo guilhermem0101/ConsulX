{
 "cells": [
  {
   "cell_type": "code",
   "execution_count": 1,
   "id": "ef506a8d",
   "metadata": {},
   "outputs": [
    {
     "name": "stderr",
     "output_type": "stream",
     "text": [
      "c:\\Users\\guilh\\AppData\\Local\\Programs\\Python\\Python39\\lib\\site-packages\\tqdm\\auto.py:21: TqdmWarning: IProgress not found. Please update jupyter and ipywidgets. See https://ipywidgets.readthedocs.io/en/stable/user_install.html\n",
      "  from .autonotebook import tqdm as notebook_tqdm\n"
     ]
    }
   ],
   "source": [
    "from utils.db import load_all_rows_from_mongo\n",
    "from utils.functions import processar_indicadores_financeiros\n",
    "import pandas as pd\n",
    "from prophet import Prophet\n",
    "from statsmodels.tsa.stattools import adfuller\n",
    "from statsmodels.stats.diagnostic import acorr_ljungbox\n",
    "from statsmodels.tsa.holtwinters import SimpleExpSmoothing, ExponentialSmoothing\n",
    "#from sklearn.metrics import mean_absolute_error, mean_squared_error\n",
    "\n"
   ]
  },
  {
   "cell_type": "code",
   "execution_count": 2,
   "id": "8a7015fd",
   "metadata": {},
   "outputs": [],
   "source": [
    "all_rows = load_all_rows_from_mongo(coll_name=\"industrial_nordeste\")\n",
    "\n",
    "df_hist = pd.DataFrame(all_rows)\n",
    "indicadores_historicos = processar_indicadores_financeiros(df_hist)"
   ]
  },
  {
   "cell_type": "code",
   "execution_count": null,
   "id": "07641e6a",
   "metadata": {},
   "outputs": [],
   "source": [
    "indicadores_historicos"
   ]
  },
  {
   "cell_type": "code",
   "execution_count": 4,
   "id": "cf81717a",
   "metadata": {},
   "outputs": [
    {
     "name": "stdout",
     "output_type": "stream",
     "text": [
      "p-valor: 0.0054\n",
      "✅ A série é estacionária (rejeita H₀).\n"
     ]
    }
   ],
   "source": [
    "resultado = adfuller(indicadores_historicos['Lucro_Líquido'])\n",
    "p_valor = resultado[1]\n",
    "\n",
    "print(f\"p-valor: {p_valor:.4f}\")\n",
    "\n",
    "if p_valor < 0.05:\n",
    "    print(\"✅ A série é estacionária (rejeita H₀).\")\n",
    "else:\n",
    "    print(\"⚠️ A série NÃO é estacionária (não rejeita H₀). O Prophet consegue lidar com isso.\")"
   ]
  },
  {
   "cell_type": "code",
   "execution_count": 5,
   "id": "757cb1f8",
   "metadata": {},
   "outputs": [
    {
     "name": "stdout",
     "output_type": "stream",
     "text": [
      "      lb_stat  lb_pvalue\n",
      "12  17.376991   0.135958\n",
      "\n",
      "P-valor (lag 12): 0.1360\n",
      "⚠️ A série NÃO apresenta autocorrelação significativa (não rejeita H₀).\n"
     ]
    }
   ],
   "source": [
    "lb = acorr_ljungbox(indicadores_historicos['Lucro_Líquido'], lags=[\n",
    "                    12], return_df=True)\n",
    "p_valor = lb['lb_pvalue'].iloc[-1]  # pega o p-valor do último lag\n",
    "\n",
    "print(lb)\n",
    "print(f\"\\nP-valor (lag 12): {p_valor:.4f}\")\n",
    "\n",
    "if p_valor < 0.05:\n",
    "    print(\"✅ A série apresenta autocorrelação significativa (rejeita H₀).\")\n",
    "else:\n",
    "    print(\"⚠️ A série NÃO apresenta autocorrelação significativa (não rejeita H₀).\")"
   ]
  },
  {
   "cell_type": "code",
   "execution_count": 14,
   "id": "ddc51e4d",
   "metadata": {},
   "outputs": [
    {
     "ename": "TypeError",
     "evalue": "__init__() got an unexpected keyword argument 'monthly_seasonality'",
     "output_type": "error",
     "traceback": [
      "\u001b[1;31m---------------------------------------------------------------------------\u001b[0m",
      "\u001b[1;31mTypeError\u001b[0m                                 Traceback (most recent call last)",
      "Cell \u001b[1;32mIn[14], line 1\u001b[0m\n\u001b[1;32m----> 1\u001b[0m m \u001b[38;5;241m=\u001b[39m \u001b[43mProphet\u001b[49m\u001b[43m(\u001b[49m\u001b[43myearly_seasonality\u001b[49m\u001b[38;5;241;43m=\u001b[39;49m\u001b[38;5;28;43;01mTrue\u001b[39;49;00m\u001b[43m,\u001b[49m\n\u001b[0;32m      2\u001b[0m \u001b[43m            \u001b[49m\u001b[43mmonthly_seasonality\u001b[49m\u001b[38;5;241;43m=\u001b[39;49m\u001b[38;5;28;43;01mFalse\u001b[39;49;00m\u001b[43m,\u001b[49m\u001b[43m \u001b[49m\u001b[43mdaily_seasonality\u001b[49m\u001b[38;5;241;43m=\u001b[39;49m\u001b[38;5;28;43;01mFalse\u001b[39;49;00m\u001b[43m)\u001b[49m\n\u001b[0;32m      3\u001b[0m m\u001b[38;5;241m.\u001b[39mfit(indicadores_historicos[\u001b[38;5;124m\"\u001b[39m\u001b[38;5;124mLucro_Líquido\u001b[39m\u001b[38;5;124m\"\u001b[39m])\n\u001b[0;32m      5\u001b[0m \u001b[38;5;66;03m# Gerar previsões para 12 meses à frente\u001b[39;00m\n",
      "\u001b[1;31mTypeError\u001b[0m: __init__() got an unexpected keyword argument 'monthly_seasonality'"
     ]
    }
   ],
   "source": [
    "m = Prophet(yearly_seasonality=True,\n",
    "            monthly_seasonality=False, daily_seasonality=False)\n",
    "m.fit(indicadores_historicos[\"Lucro_Líquido\"])\n",
    "\n",
    "# Gerar previsões para 12 meses à frente\n",
    "future = m.make_future_dataframe(periods=12, freq='M')\n",
    "forecast = m.predict(future)\n",
    "\n",
    "# Visualizar\n",
    "m.plot(forecast)\n",
    "m.plot_components(forecast)"
   ]
  }
 ],
 "metadata": {
  "kernelspec": {
   "display_name": "Python 3",
   "language": "python",
   "name": "python3"
  },
  "language_info": {
   "codemirror_mode": {
    "name": "ipython",
    "version": 3
   },
   "file_extension": ".py",
   "mimetype": "text/x-python",
   "name": "python",
   "nbconvert_exporter": "python",
   "pygments_lexer": "ipython3",
   "version": "3.9.13"
  }
 },
 "nbformat": 4,
 "nbformat_minor": 5
}
