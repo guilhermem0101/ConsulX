{
 "cells": [
  {
   "cell_type": "code",
   "execution_count": 2,
   "id": "aadfc04e",
   "metadata": {},
   "outputs": [
    {
     "name": "stdout",
     "output_type": "stream",
     "text": [
      "{'per_file': [{'file': 'balancetes/balancete1.json', 'indicators': {'receita_bruta': 684563.19, 'impostos_vendas': 3160.22, 'receita_liquida': 681402.97, 'custos': 405696.63, 'lucro_bruto': 275706.34, 'despesas': 416239.67, 'lucro_liquido': -140533.33, 'disponibilidade_caixa': 130876.58}, 'n_leaves': 32}], 'combined_totals': {'receita_bruta': 684563.19, 'impostos_vendas': 3160.22, 'receita_liquida': 681402.97, 'custos': 405696.63, 'lucro_bruto': 275706.34, 'despesas': 416239.67, 'lucro_liquido': -140533.33, 'disponibilidade_caixa': 130876.58}}\n"
     ]
    }
   ],
   "source": [
    "from calcula_resultados import compute_indicators_from_files\n",
    "import pandas as pd\n",
    "\n",
    "files = [\"balancetes/balancete1.json\"]\n",
    "result = compute_indicators_from_files(files)\n",
    "\n"
   ]
  },
  {
   "cell_type": "code",
   "execution_count": null,
   "id": "d2fdf1e3",
   "metadata": {},
   "outputs": [
    {
     "data": {
      "text/html": [
       "<div>\n",
       "<style scoped>\n",
       "    .dataframe tbody tr th:only-of-type {\n",
       "        vertical-align: middle;\n",
       "    }\n",
       "\n",
       "    .dataframe tbody tr th {\n",
       "        vertical-align: top;\n",
       "    }\n",
       "\n",
       "    .dataframe thead th {\n",
       "        text-align: right;\n",
       "    }\n",
       "</style>\n",
       "<table border=\"1\" class=\"dataframe\">\n",
       "  <thead>\n",
       "    <tr style=\"text-align: right;\">\n",
       "      <th></th>\n",
       "      <th>indicators.receita_bruta</th>\n",
       "      <th>indicators.impostos_vendas</th>\n",
       "      <th>indicators.receita_liquida</th>\n",
       "      <th>indicators.custos</th>\n",
       "      <th>indicators.lucro_bruto</th>\n",
       "      <th>indicators.despesas</th>\n",
       "      <th>indicators.lucro_liquido</th>\n",
       "      <th>indicators.disponibilidade_caixa</th>\n",
       "    </tr>\n",
       "  </thead>\n",
       "  <tbody>\n",
       "    <tr>\n",
       "      <th>0</th>\n",
       "      <td>684563.19</td>\n",
       "      <td>3160.22</td>\n",
       "      <td>681402.97</td>\n",
       "      <td>405696.63</td>\n",
       "      <td>275706.34</td>\n",
       "      <td>416239.67</td>\n",
       "      <td>-140533.33</td>\n",
       "      <td>130876.58</td>\n",
       "    </tr>\n",
       "  </tbody>\n",
       "</table>\n",
       "</div>"
      ],
      "text/plain": [
       "   indicators.receita_bruta  indicators.impostos_vendas  \\\n",
       "0                 684563.19                     3160.22   \n",
       "\n",
       "   indicators.receita_liquida  indicators.custos  indicators.lucro_bruto  \\\n",
       "0                   681402.97          405696.63               275706.34   \n",
       "\n",
       "   indicators.despesas  indicators.lucro_liquido  \\\n",
       "0            416239.67                -140533.33   \n",
       "\n",
       "   indicators.disponibilidade_caixa  \n",
       "0                         130876.58  "
      ]
     },
     "execution_count": 6,
     "metadata": {},
     "output_type": "execute_result"
    }
   ],
   "source": [
    "# ---- DataFrame por arquivo ----\n",
    "df_balancete = pd.json_normalize(\n",
    "    result[\"per_file\"]).drop(columns=[\"file\", \"n_leaves\"])\n",
    "\n",
    "\n",
    "df_balancete"
   ]
  }
 ],
 "metadata": {
  "kernelspec": {
   "display_name": "Python 3",
   "language": "python",
   "name": "python3"
  },
  "language_info": {
   "codemirror_mode": {
    "name": "ipython",
    "version": 3
   },
   "file_extension": ".py",
   "mimetype": "text/x-python",
   "name": "python",
   "nbconvert_exporter": "python",
   "pygments_lexer": "ipython3",
   "version": "3.11.9"
  }
 },
 "nbformat": 4,
 "nbformat_minor": 5
}
