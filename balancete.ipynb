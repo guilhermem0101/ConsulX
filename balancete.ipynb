{
 "cells": [
  {
   "cell_type": "code",
   "execution_count": 5,
   "id": "aadfc04e",
   "metadata": {},
   "outputs": [
    {
     "name": "stdout",
     "output_type": "stream",
     "text": [
      "Spec encontrado: None\n",
      "Path do módulo: Não encontrado\n"
     ]
    }
   ],
   "source": [
    "import importlib.util\n",
    "spec = importlib.util.find_spec(\"tabula\")\n",
    "print(f\"Spec encontrado: {spec}\")\n",
    "print(f\"Path do módulo: {spec.origin if spec else 'Não encontrado'}\")"
   ]
  },
  {
   "cell_type": "code",
   "execution_count": 1,
   "id": "3c700432",
   "metadata": {},
   "outputs": [
    {
     "name": "stdout",
     "output_type": "stream",
     "text": [
      "2.10.0\n",
      "C:\\Users\\guilh\\AppData\\Local\\Packages\\PythonSoftwareFoundation.Python.3.11_qbz5n2kfra8p0\\LocalCache\\local-packages\\Python311\\site-packages\\tabula\\__init__.py\n"
     ]
    }
   ],
   "source": [
    "import tabula\n",
    "print(tabula.__version__)\n",
    "print(tabula.__file__)"
   ]
  },
  {
   "cell_type": "code",
   "execution_count": 6,
   "id": "ee4b2938",
   "metadata": {},
   "outputs": [
    {
     "name": "stdout",
     "output_type": "stream",
     "text": [
      "Diretórios de busca do Python:\n",
      "- c:\\Users\\guilh\\Desktop\\Trabalhos\\PI6\n",
      "- C:\\Program Files\\WindowsApps\\PythonSoftwareFoundation.Python.3.11_3.11.2544.0_x64__qbz5n2kfra8p0\\python311.zip\n",
      "- C:\\Program Files\\WindowsApps\\PythonSoftwareFoundation.Python.3.11_3.11.2544.0_x64__qbz5n2kfra8p0\\DLLs\n",
      "- C:\\Program Files\\WindowsApps\\PythonSoftwareFoundation.Python.3.11_3.11.2544.0_x64__qbz5n2kfra8p0\\Lib\n",
      "- C:\\Program Files\\WindowsApps\\PythonSoftwareFoundation.Python.3.11_3.11.2544.0_x64__qbz5n2kfra8p0\n",
      "- \n",
      "- C:\\Users\\guilh\\AppData\\Local\\Packages\\PythonSoftwareFoundation.Python.3.11_qbz5n2kfra8p0\\LocalCache\\local-packages\\Python311\\site-packages\n",
      "- C:\\Users\\guilh\\AppData\\Local\\Packages\\PythonSoftwareFoundation.Python.3.11_qbz5n2kfra8p0\\LocalCache\\local-packages\\Python311\\site-packages\\win32\n",
      "- C:\\Users\\guilh\\AppData\\Local\\Packages\\PythonSoftwareFoundation.Python.3.11_qbz5n2kfra8p0\\LocalCache\\local-packages\\Python311\\site-packages\\win32\\lib\n",
      "- C:\\Users\\guilh\\AppData\\Local\\Packages\\PythonSoftwareFoundation.Python.3.11_qbz5n2kfra8p0\\LocalCache\\local-packages\\Python311\\site-packages\\Pythonwin\n",
      "- C:\\Program Files\\WindowsApps\\PythonSoftwareFoundation.Python.3.11_3.11.2544.0_x64__qbz5n2kfra8p0\\Lib\\site-packages\n"
     ]
    }
   ],
   "source": [
    "import sys\n",
    "print(\"Diretórios de busca do Python:\")\n",
    "for path in sys.path:\n",
    "    print(f\"- {path}\")"
   ]
  },
  {
   "cell_type": "code",
   "execution_count": null,
   "id": "70d7b203",
   "metadata": {},
   "outputs": [
    {
     "data": {
      "text/plain": [
       "['codi_cta',\n",
       " 'nome_cta',\n",
       " 'clas_cta',\n",
       " 'tipo_cta',\n",
       " 'saldoant',\n",
       " 'totdeb',\n",
       " 'totcre',\n",
       " 'saldoatu',\n",
       " 'cgc_emrpesa',\n",
       " 'emissao_data',\n",
       " 'emissao_hora',\n",
       " 'mascara',\n",
       " 'mascrel',\n",
       " 'visivel_valor',\n",
       " 'visivel_class',\n",
       " 'sublinhado',\n",
       " 'datini',\n",
       " 'datfin',\n",
       " 'natureza',\n",
       " 'insc_jcom',\n",
       " 'data_jcom',\n",
       " 'ordem',\n",
       " 'clas_visual',\n",
       " 'clas_natureza',\n",
       " 'natureza_nivel_conta',\n",
       " 'grupo_nivel_conta']"
      ]
     },
     "execution_count": 9,
     "metadata": {},
     "output_type": "execute_result"
    }
   ],
   "source": [
    "colunas = df.columns.tolist()\n",
    "colunas"
   ]
  }
 ],
 "metadata": {
  "kernelspec": {
   "display_name": "Python 3",
   "language": "python",
   "name": "python3"
  },
  "language_info": {
   "codemirror_mode": {
    "name": "ipython",
    "version": 3
   },
   "file_extension": ".py",
   "mimetype": "text/x-python",
   "name": "python",
   "nbconvert_exporter": "python",
   "pygments_lexer": "ipython3",
   "version": "3.11.9"
  }
 },
 "nbformat": 4,
 "nbformat_minor": 5
}
